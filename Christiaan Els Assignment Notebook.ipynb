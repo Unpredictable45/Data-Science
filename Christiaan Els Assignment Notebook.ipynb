{
    "cells": [
        {
            "cell_type": "markdown",
            "metadata": {
                "collapsed": true
            },
            "source": "# My Jupyter Notebook on IBm Watson Studio"
        },
        {
            "cell_type": "markdown",
            "metadata": {},
            "source": "**Christiaan Els**  \nCurrent occupation - Mechanical Engineer; Desired occupation - Data Scientist"
        },
        {
            "cell_type": "markdown",
            "metadata": {},
            "source": "*I am interested in data science due to the ever-changing environment, methods and intricate solutions to problems. I thoroughly enjoy being surprised by a discovery/evidence in the when I expected an entirely different answer or outcome.*"
        },
        {
            "cell_type": "markdown",
            "metadata": {},
            "source": "### The following code provides output in the form of a sentence"
        },
        {
            "cell_type": "code",
            "execution_count": 4,
            "metadata": {},
            "outputs": [
                {
                    "name": "stdout",
                    "output_type": "stream",
                    "text": "This is my first Jupyter Notebook\n"
                }
            ],
            "source": "print(\"This is my first Jupyter Notebook\")"
        },
        {
            "cell_type": "markdown",
            "metadata": {},
            "source": "There is a lot of ~~facts~~ information available regarding Notebooks on [Google](https://www.google.com)  \nThere are quite a few items that can be searched that include:  \n  * Dogs\n  * Cats\n  * Birds\n  * Cake recipes"
        }
    ],
    "metadata": {
        "kernelspec": {
            "display_name": "Python 3.8",
            "language": "python",
            "name": "python3"
        },
        "language_info": {
            "codemirror_mode": {
                "name": "ipython",
                "version": 3
            },
            "file_extension": ".py",
            "mimetype": "text/x-python",
            "name": "python",
            "nbconvert_exporter": "python",
            "pygments_lexer": "ipython3",
            "version": "3.8.10"
        }
    },
    "nbformat": 4,
    "nbformat_minor": 1
}